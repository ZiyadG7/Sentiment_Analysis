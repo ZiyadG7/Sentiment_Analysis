{
 "cells": [
  {
   "cell_type": "code",
   "execution_count": 5,
   "metadata": {
    "colab": {
     "base_uri": "https://localhost:8080/",
     "height": 280
    },
    "id": "FA--SH7qUIHb",
    "outputId": "a1386004-0074-40fb-bbdf-d0386399b4af"
   },
   "outputs": [
    {
     "data": {
      "text/html": [
       "<div>\n",
       "<style scoped>\n",
       "    .dataframe tbody tr th:only-of-type {\n",
       "        vertical-align: middle;\n",
       "    }\n",
       "\n",
       "    .dataframe tbody tr th {\n",
       "        vertical-align: top;\n",
       "    }\n",
       "\n",
       "    .dataframe thead th {\n",
       "        text-align: right;\n",
       "    }\n",
       "</style>\n",
       "<table border=\"1\" class=\"dataframe\">\n",
       "  <thead>\n",
       "    <tr style=\"text-align: right;\">\n",
       "      <th></th>\n",
       "      <th>review</th>\n",
       "      <th>sentiment</th>\n",
       "    </tr>\n",
       "  </thead>\n",
       "  <tbody>\n",
       "    <tr>\n",
       "      <th>0</th>\n",
       "      <td>one reviewers mentioned watching 1 oz episode ...</td>\n",
       "      <td>positive</td>\n",
       "    </tr>\n",
       "    <tr>\n",
       "      <th>1</th>\n",
       "      <td>wonderful little production br br filming tech...</td>\n",
       "      <td>positive</td>\n",
       "    </tr>\n",
       "    <tr>\n",
       "      <th>2</th>\n",
       "      <td>thought wonderful way spend time hot summer we...</td>\n",
       "      <td>positive</td>\n",
       "    </tr>\n",
       "    <tr>\n",
       "      <th>3</th>\n",
       "      <td>basically family little boy jake thinks zombie...</td>\n",
       "      <td>negative</td>\n",
       "    </tr>\n",
       "    <tr>\n",
       "      <th>4</th>\n",
       "      <td>petter mattei love time money visually stunnin...</td>\n",
       "      <td>positive</td>\n",
       "    </tr>\n",
       "  </tbody>\n",
       "</table>\n",
       "</div>"
      ],
      "text/plain": [
       "                                              review sentiment\n",
       "0  one reviewers mentioned watching 1 oz episode ...  positive\n",
       "1  wonderful little production br br filming tech...  positive\n",
       "2  thought wonderful way spend time hot summer we...  positive\n",
       "3  basically family little boy jake thinks zombie...  negative\n",
       "4  petter mattei love time money visually stunnin...  positive"
      ]
     },
     "execution_count": 5,
     "metadata": {},
     "output_type": "execute_result"
    }
   ],
   "source": [
    "#Step 1. Prepare the data (Cleaning and tokenizing)\n",
    "\n",
    "import pandas as pd\n",
    "import csv\n",
    "import re\n",
    "import nltk \n",
    "from nltk.corpus import stopwords\n",
    "# nltk.download('stopwords')\n",
    "# nltk.download('punkt')\n",
    "# from google.colab import drive\n",
    "# drive.mount('/content/drive')\n",
    "\n",
    "data = pd.read_csv('IMDB_Dataset.csv', error_bad_lines = 'skip', encoding='utf-8' )\n",
    "stopwordlist = stopwords.words('english')\n",
    "\n",
    "# Data cleaning function\n",
    "def clean_text(text):\n",
    "    text = re.sub(r'[^\\w\\s]', ' ', text)  # Remove special characters except alphanumeric and whitespace\n",
    "    text = text.lower()  # Convert to lowercase\n",
    "    text = nltk.word_tokenize(text)  # Tokenize text\n",
    "    text = [word for word in text if word not in stopwordlist]  # Remove stopwords\n",
    "    return ' '.join(text)\n",
    "\n",
    "# data['review'] = data['review'].astype(str)\n",
    "data['review'] = data['review'].apply(clean_text)\n",
    "data.head()\n"
   ]
  },
  {
   "cell_type": "code",
   "execution_count": 2,
   "metadata": {
    "colab": {
     "base_uri": "https://localhost:8080/"
    },
    "id": "2yr64RVJpvbx",
    "outputId": "35714aaf-7884-4226-90bb-129a2d88e0ee"
   },
   "outputs": [
    {
     "name": "stdout",
     "output_type": "stream",
     "text": [
      "Model accuracy: 0.895\n",
      "Model precision: 0.883\n",
      "Model recall: 0.912\n"
     ]
    }
   ],
   "source": [
    "from sklearn.feature_extraction.text import TfidfVectorizer\n",
    "from sklearn.linear_model import LogisticRegression\n",
    "from sklearn.model_selection import train_test_split\n",
    "from sklearn.metrics import accuracy_score, precision_score, recall_score\n",
    "\n",
    "def build_sentiment_analyzer(data, review_col='review', sentiment_col='sentiment'):\n",
    "    \"\"\"\n",
    "    This function builds and returns a sentiment analysis model using logistic regression for binary classification.\n",
    "\n",
    "    Args:\n",
    "      data (pandas.DataFrame): The DataFrame containing your data.\n",
    "      review_col (str, optional): The column name containing the review text. Defaults to 'review'.\n",
    "      sentiment_col (str, optional): The column name containing the sentiment label. Defaults to 'sentiment'.\n",
    "\n",
    "    Returns:\n",
    "      tuple: A tuple containing the trained Logistic Regression model and the TfidfVectorizer object.\n",
    "    \"\"\"\n",
    "\n",
    "    # Feature extraction (text to numbers)\n",
    "    vectorizer = TfidfVectorizer(max_features=10000)  # Limit features to 10000 most important words\n",
    "    X_features = vectorizer.fit_transform(data[review_col])  # Convert reviews to numerical features\n",
    "\n",
    "    # Prepare labels (assuming sentiment is binary: positive or negative)\n",
    "    y = data[sentiment_col].map({'positive': 1, 'negative': 0})  # Map labels to 1 (positive) and 0 (negative)\n",
    "\n",
    "    # Train-test split\n",
    "    X_train, X_test, y_train, y_test = train_test_split(X_features, y, test_size=0.2, random_state=42)\n",
    "\n",
    "    # Train the model (logistic regression for binary sentiment classification)\n",
    "    model = LogisticRegression()\n",
    "    model.fit(X_train, y_train)\n",
    "\n",
    "\n",
    "    #Evaluating Model\n",
    "    y_pred = model.predict(X_test)\n",
    "    accuracy = accuracy_score(y_test, y_pred)\n",
    "    precision = precision_score(y_test, y_pred)\n",
    "    recall = recall_score(y_test, y_pred)\n",
    "\n",
    "    print(\"Model accuracy:\", accuracy.round(3))\n",
    "    print(\"Model precision:\", precision.round(3))\n",
    "    print(\"Model recall:\", recall.round(3))\n",
    "\n",
    "    return model, vectorizer\n",
    "\n",
    "\n",
    "\n",
    "\n",
    "#Creating Model\n",
    "model, vectorizer = build_sentiment_analyzer(data)\n"
   ]
  },
  {
   "cell_type": "code",
   "execution_count": 19,
   "metadata": {
    "colab": {
     "base_uri": "https://localhost:8080/"
    },
    "id": "pM5bxqsQGK6E",
    "outputId": "1f4e4478-200f-4350-e1fb-9f2e64dd1fe9"
   },
   "outputs": [
    {
     "name": "stdout",
     "output_type": "stream",
     "text": [
      "This movie was fantastic!\n",
      "Predicted sentiment: positive\n",
      "This movie was  horrible\n",
      "Predicted sentiment: negative\n"
     ]
    }
   ],
   "source": [
    "def predict_sentiment(model, vectorizer, review):\n",
    "    \"\"\"\n",
    "    This function predicts the sentiment of a new review using the trained model and vectorizer.\n",
    "\n",
    "    Args:\n",
    "      model (sklearn.linear_model.LogisticRegression): The trained sentiment analysis model.\n",
    "      vectorizer (sklearn.feature_extraction.text.TfidfVectorizer): The TfidfVectorizer object used for feature extraction.\n",
    "      review (str): The review text for which to predict sentiment.\n",
    "\n",
    "    Returns:\n",
    "      str: The predicted sentiment label (positive or negative).\n",
    "    \"\"\"\n",
    "\n",
    "    # Convert the review text to features\n",
    "    X_new = vectorizer.transform([review])\n",
    "\n",
    "    # Predict sentiment (probability of being positive)\n",
    "    predicted_proba = model.predict_proba(X_new)[0][1]  # Get probability of positive class\n",
    "\n",
    "    # Define a threshold (adjust as needed)\n",
    "    threshold = 0.5  # You can adjust this threshold based on your needs\n",
    "\n",
    "    # Classify based on threshold\n",
    "    predicted_sentiment = \"positive\" if predicted_proba > threshold else \"negative\"\n",
    "\n",
    "    return predicted_sentiment\n",
    "\n",
    "\n",
    "  # Predict sentiment for a new review\n",
    "review = \"This movie was fantastic!\"\n",
    "predicted_sentiment = predict_sentiment(model, vectorizer, review)\n",
    "\n",
    "print(review + \"\\n\"+ \"Predicted sentiment:\", predicted_sentiment)\n",
    "\n",
    "review = \"This movie was  horrible\"\n",
    "predicted_sentiment = predict_sentiment(model, vectorizer, review)\n",
    "print(review + \"\\n\"+ \"Predicted sentiment:\", predicted_sentiment)\n"
   ]
  },
  {
   "cell_type": "code",
   "execution_count": 1,
   "metadata": {
    "id": "VkQoI8i5IPd1"
   },
   "outputs": [],
   "source": [
    "# from tensorflow.keras.preprocessing.sequence import pad_sequences\n",
    "# from tensorflow.keras.models import Sequential\n",
    "# from tensorflow.keras.layers import Embedding, LSTM, Dense\n",
    "# from sklearn.model_selection import train_test_split\n",
    "# from sklearn.metrics import accuracy_score, precision_score, recall_score\n",
    "\n",
    "# def build_lstm_sentiment_analyzer(data, review_col='review', sentiment_col='sentiment', max_len=100):\n",
    "#     \"\"\"\n",
    "#     This function builds and returns a sentiment analysis model using an LSTM network,\n",
    "#     directly extracting preprocessed data and sentiment labels from the DataFrame.\n",
    "\n",
    "#     Args:\n",
    "#       data (pandas.DataFrame): The DataFrame containing your preprocessed text data and sentiment labels.\n",
    "#       review_col (str, optional): The column name containing the preprocessed review text. Defaults to 'review'.\n",
    "#       sentiment_col (str, optional): The column name containing the sentiment labels. Defaults to 'sentiment'.\n",
    "#       max_len (int, optional): The maximum sequence length for padding. Defaults to 100.\n",
    "\n",
    "#     Returns:\n",
    "#       tuple: A tuple containing the trained LSTM model.\n",
    "#     \"\"\"\n",
    "\n",
    "#     # Extract preprocessed data and sentiment labels\n",
    "#     preprocessed_data = data[review_col]\n",
    "#     sentiment_labels = data[sentiment_col]\n",
    "\n",
    "#     # Train-test split\n",
    "#     X_train, X_test, y_train, y_test = train_test_split(preprocessed_data, sentiment_labels, test_size=0.2, random_state=42)\n",
    "\n",
    "#     # Build the LSTM model (unchanged)\n",
    "#     model = Sequential()\n",
    "#     model.add(Embedding(max_features=10000, embedding_dim=128, input_length=max_len))  # Embedding layer\n",
    "#     model.add(LSTM(64))  # LSTM layer with 64 units\n",
    "#     model.add(Dense(1, activation='sigmoid'))  # Output layer for binary classification\n",
    "\n",
    "#     model.compile(loss='binary_crossentropy', optimizer='adam', metrics=['accuracy'])\n",
    "#     model.fit(X_train, y_train, epochs=10, batch_size=32, validation_data=(X_test, y_test))  # Train the model\n",
    "\n",
    "#     # Evaluate the model (unchanged)\n",
    "#     y_pred = model.predict(X_test)\n",
    "#     accuracy = accuracy_score(y_test, y_pred.round())\n",
    "#     precision = precision_score(y_test, y_pred.round())\n",
    "#     recall = recall_score(y_test, y_pred.round())\n",
    "\n",
    "#     print(\"Model Accuracy:\", accuracy.round(3))\n",
    "#     print(\"Model Precision:\", precision.round(3))\n",
    "#     print(\"Model Recall:\", recall.round(3))\n",
    "\n",
    "#     return model\n",
    "\n",
    "# lstm_model = build_lstm_sentiment_analyzer(data)\n"
   ]
  },
  {
   "cell_type": "code",
   "execution_count": 2,
   "metadata": {
    "id": "KVIp52cHIe2l"
   },
   "outputs": [],
   "source": [
    "# from tensorflow.keras.preprocessing.sequence import pad_sequences\n",
    "\n",
    "# def predict_sentiment_lstm(model, max_len=100, review):\n",
    "#     \"\"\"\n",
    "#     This function predicts the sentiment of a new review using the trained LSTM model.\n",
    "\n",
    "#     Args:\n",
    "#       model (tensorflow.keras.models.Model): The trained LSTM sentiment analysis model.\n",
    "#       max_len (int): The maximum sequence length used during training.\n",
    "#       review (str): The review text for which to predict sentiment.\n",
    "\n",
    "#     Returns:\n",
    "#       str: The predicted sentiment label (positive or negative).\n",
    "#     \"\"\"\n",
    "\n",
    "#     # Preprocess the review (similar to your original preprocessing steps)\n",
    "#     # ... (your preprocessing steps here)\n",
    "\n",
    "#     # Convert the review text to a sequence (assuming you tokenized before)\n",
    "#     review_sequence = [word for word in review.split()]  # Assuming tokenization\n",
    "\n",
    "#     # Pad the sequence (if necessary)\n",
    "#     padded_sequence = pad_sequences([review_sequence], maxlen=max_len, padding='post')\n",
    "\n",
    "#     # Predict sentiment\n",
    "#     predicted_proba = model.predict(padded_sequence)[0][1]  # Get probability of positive class\n",
    "\n",
    "#     # Define a threshold (adjust as needed)\n",
    "#     threshold = 0.5  # You can adjust this threshold based on your needs\n",
    "\n",
    "#     # Classify based on threshold\n",
    "#     predicted_sentiment = \"positive\" if predicted_proba > threshold else \"negative\"\n",
    "\n",
    "#     return predicted_sentiment\n"
   ]
  },
  {
   "cell_type": "code",
   "execution_count": null,
   "metadata": {
    "colab": {
     "base_uri": "https://localhost:8080/"
    },
    "id": "6t77hyyQZ_gu",
    "outputId": "ddefff81-8eb5-49dd-8d3c-6a0711f44c4a"
   },
   "outputs": [
    {
     "name": "stdout",
     "output_type": "stream",
     "text": [
      " * Serving Flask app \"__main__\" (lazy loading)\n",
      " * Environment: production\n",
      "   WARNING: This is a development server. Do not use it in a production deployment.\n",
      "   Use a production WSGI server instead.\n",
      " * Debug mode: off\n"
     ]
    },
    {
     "name": "stderr",
     "output_type": "stream",
     "text": [
      " * Running on http://127.0.0.1:5000/ (Press CTRL+C to quit)\n",
      "127.0.0.1 - - [24/Jun/2024 01:02:50] \"\u001b[37mGET / HTTP/1.1\u001b[0m\" 200 -\n",
      "127.0.0.1 - - [24/Jun/2024 01:02:52] \"\u001b[37mGET / HTTP/1.1\u001b[0m\" 200 -\n",
      "127.0.0.1 - - [24/Jun/2024 01:04:04] \"\u001b[37mGET / HTTP/1.1\u001b[0m\" 200 -\n",
      "127.0.0.1 - - [24/Jun/2024 01:04:37] \"\u001b[37mGET / HTTP/1.1\u001b[0m\" 200 -\n",
      "127.0.0.1 - - [24/Jun/2024 01:05:18] \"\u001b[37mGET / HTTP/1.1\u001b[0m\" 200 -\n"
     ]
    }
   ],
   "source": [
    "from flask import Flask, render_template, request\n",
    "\n",
    "app = Flask(__name__)\n",
    "\n",
    "@app.route('/', methods=[\"POST\", \"GET\"])\n",
    "def home(result=None):\n",
    "    if request.method == \"POST\":\n",
    "        review = request.form[\"review\"]\n",
    "        if (request.form[\"algorithm\"] == \"simple_regression\"):\n",
    "            \n",
    "            model, vectorizer = build_sentiment_analyzer(data)\n",
    "            sentiment = predict_sentiment(model, vectorizer, review)\n",
    "\n",
    "            # Render the template with the predicted sentiment\n",
    "            return render_template(\"index.html\", result=sentiment)\n",
    "        else:\n",
    "            return render_template(\"index.html\", result='Algorithm not yet supported')\n",
    "\n",
    "    else:  # GET request\n",
    "        return render_template(\"index.html\")\n",
    "    \n",
    "\n",
    "\n",
    "if __name__ == '__main__':\n",
    "    app.run()"
   ]
  }
 ],
 "metadata": {
  "colab": {
   "provenance": []
  },
  "kernelspec": {
   "display_name": "Python 3",
   "language": "python",
   "name": "python3"
  },
  "language_info": {
   "codemirror_mode": {
    "name": "ipython",
    "version": 3
   },
   "file_extension": ".py",
   "mimetype": "text/x-python",
   "name": "python",
   "nbconvert_exporter": "python",
   "pygments_lexer": "ipython3",
   "version": "3.8.8"
  }
 },
 "nbformat": 4,
 "nbformat_minor": 1
}
